{
 "cells": [
  {
   "cell_type": "code",
   "execution_count": 3,
   "id": "f7588e1a",
   "metadata": {},
   "outputs": [
    {
     "name": "stderr",
     "output_type": "stream",
     "text": [
      "[nltk_data] Downloading package stopwords to\n",
      "[nltk_data]     C:\\Users\\hp\\AppData\\Roaming\\nltk_data...\n",
      "[nltk_data]   Package stopwords is already up-to-date!\n"
     ]
    },
    {
     "name": "stdout",
     "output_type": "stream",
     "text": [
      "Accuracy:  0.825625\n",
      "Classification Report:\n",
      "               precision    recall  f1-score   support\n",
      "\n",
      "       anger       0.88      0.78      0.83       427\n",
      "        fear       0.84      0.72      0.77       397\n",
      "         joy       0.77      0.94      0.84      1021\n",
      "        love       0.80      0.47      0.60       296\n",
      "     sadness       0.88      0.92      0.90       946\n",
      "    surprise       0.79      0.42      0.55       113\n",
      "\n",
      "    accuracy                           0.83      3200\n",
      "   macro avg       0.83      0.71      0.75      3200\n",
      "weighted avg       0.83      0.83      0.82      3200\n",
      "\n"
     ]
    }
   ],
   "source": [
    "import pandas as pd\n",
    "import sys\n",
    "sys.path.append('../src')\n",
    "from emotion_model import prepare_data, train_emotion_classifier\n",
    "from data_preprocessing import load_and_clean_data\n",
    "\n",
    "# Load dataset\n",
    "df = load_and_clean_data('../data/raw/emotion_dataset.csv')  # Use your correct path\n",
    "\n",
    "# Prepare data\n",
    "X_vec, y, vectorizer = prepare_data(df)\n",
    "\n",
    "# Train model\n",
    "model = train_emotion_classifier(X_vec, y)"
   ]
  },
  {
   "cell_type": "code",
   "execution_count": 4,
   "id": "1fe4d323",
   "metadata": {},
   "outputs": [],
   "source": [
    "import pickle\n",
    "\n",
    "# Save the trained model\n",
    "with open('../models/emotion_model.pkl', 'wb') as f:\n",
    "    pickle.dump(model, f)\n",
    "\n",
    "# Save the vectorizer (e.g., TfidfVectorizer)\n",
    "with open('../models/vectorizer.pkl', 'wb') as f:\n",
    "    pickle.dump(vectorizer, f)"
   ]
  }
 ],
 "metadata": {
  "kernelspec": {
   "display_name": "Python 3",
   "language": "python",
   "name": "python3"
  },
  "language_info": {
   "codemirror_mode": {
    "name": "ipython",
    "version": 3
   },
   "file_extension": ".py",
   "mimetype": "text/x-python",
   "name": "python",
   "nbconvert_exporter": "python",
   "pygments_lexer": "ipython3",
   "version": "3.12.1"
  }
 },
 "nbformat": 4,
 "nbformat_minor": 5
}
